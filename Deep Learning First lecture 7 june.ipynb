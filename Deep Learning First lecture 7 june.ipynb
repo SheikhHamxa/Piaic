{
 "cells": [
  {
   "cell_type": "markdown",
   "metadata": {},
   "source": [
    "Deep learning has:\n",
    "1_Neural network and\n",
    "2_Feature engineering auto.....\n",
    "\n",
    "1_Supervised learning: supervisor guides/ is involved e.g. this is cat image>label image>annotate data>label is supervised learning it has more acheivement\n",
    "\n",
    "\n",
    "2_Unsupervised learning has:\n",
    "Clustering\n",
    "Dimentionality Reduction\n",
    "Clustering is grouping on some similar features any feature could be chosen\n",
    "\n",
    "3_Reinforcement learning has 4 things:\n",
    "\n",
    "Environment (physical or virtual): Receive input from environment\n",
    "Agent\n",
    "Action\n",
    "Revote\n",
    "Self supervised learning: Machine gives labels itself"
   ]
  },
  {
   "cell_type": "code",
   "execution_count": 1,
   "metadata": {},
   "outputs": [],
   "source": [
    "import pandas as pd\n",
    "import numpy as np\n",
    "import matplotlib.pyplot as plt"
   ]
  },
  {
   "cell_type": "code",
   "execution_count": 8,
   "metadata": {},
   "outputs": [
    {
     "data": {
      "text/html": [
       "<div>\n",
       "<style scoped>\n",
       "    .dataframe tbody tr th:only-of-type {\n",
       "        vertical-align: middle;\n",
       "    }\n",
       "\n",
       "    .dataframe tbody tr th {\n",
       "        vertical-align: top;\n",
       "    }\n",
       "\n",
       "    .dataframe thead th {\n",
       "        text-align: right;\n",
       "    }\n",
       "</style>\n",
       "<table border=\"1\" class=\"dataframe\">\n",
       "  <thead>\n",
       "    <tr style=\"text-align: right;\">\n",
       "      <th></th>\n",
       "      <th>Gender</th>\n",
       "      <th>Height</th>\n",
       "      <th>Weight</th>\n",
       "    </tr>\n",
       "  </thead>\n",
       "  <tbody>\n",
       "    <tr>\n",
       "      <td>0</td>\n",
       "      <td>Male</td>\n",
       "      <td>73.847017</td>\n",
       "      <td>241.893563</td>\n",
       "    </tr>\n",
       "    <tr>\n",
       "      <td>1</td>\n",
       "      <td>Male</td>\n",
       "      <td>68.781904</td>\n",
       "      <td>162.310473</td>\n",
       "    </tr>\n",
       "    <tr>\n",
       "      <td>2</td>\n",
       "      <td>Male</td>\n",
       "      <td>74.110105</td>\n",
       "      <td>212.740856</td>\n",
       "    </tr>\n",
       "    <tr>\n",
       "      <td>3</td>\n",
       "      <td>Male</td>\n",
       "      <td>71.730978</td>\n",
       "      <td>220.042470</td>\n",
       "    </tr>\n",
       "    <tr>\n",
       "      <td>4</td>\n",
       "      <td>Male</td>\n",
       "      <td>69.881796</td>\n",
       "      <td>206.349801</td>\n",
       "    </tr>\n",
       "    <tr>\n",
       "      <td>...</td>\n",
       "      <td>...</td>\n",
       "      <td>...</td>\n",
       "      <td>...</td>\n",
       "    </tr>\n",
       "    <tr>\n",
       "      <td>9995</td>\n",
       "      <td>Female</td>\n",
       "      <td>66.172652</td>\n",
       "      <td>136.777454</td>\n",
       "    </tr>\n",
       "    <tr>\n",
       "      <td>9996</td>\n",
       "      <td>Female</td>\n",
       "      <td>67.067155</td>\n",
       "      <td>170.867906</td>\n",
       "    </tr>\n",
       "    <tr>\n",
       "      <td>9997</td>\n",
       "      <td>Female</td>\n",
       "      <td>63.867992</td>\n",
       "      <td>128.475319</td>\n",
       "    </tr>\n",
       "    <tr>\n",
       "      <td>9998</td>\n",
       "      <td>Female</td>\n",
       "      <td>69.034243</td>\n",
       "      <td>163.852461</td>\n",
       "    </tr>\n",
       "    <tr>\n",
       "      <td>9999</td>\n",
       "      <td>Female</td>\n",
       "      <td>61.944246</td>\n",
       "      <td>113.649103</td>\n",
       "    </tr>\n",
       "  </tbody>\n",
       "</table>\n",
       "<p>10000 rows × 3 columns</p>\n",
       "</div>"
      ],
      "text/plain": [
       "      Gender     Height      Weight\n",
       "0       Male  73.847017  241.893563\n",
       "1       Male  68.781904  162.310473\n",
       "2       Male  74.110105  212.740856\n",
       "3       Male  71.730978  220.042470\n",
       "4       Male  69.881796  206.349801\n",
       "...      ...        ...         ...\n",
       "9995  Female  66.172652  136.777454\n",
       "9996  Female  67.067155  170.867906\n",
       "9997  Female  63.867992  128.475319\n",
       "9998  Female  69.034243  163.852461\n",
       "9999  Female  61.944246  113.649103\n",
       "\n",
       "[10000 rows x 3 columns]"
      ]
     },
     "execution_count": 8,
     "metadata": {},
     "output_type": "execute_result"
    }
   ],
   "source": [
    "df = pd.read_csv(r\"C:\\Users\\Hamxa\\Desktop\\piaic\\Second Quarter\\weight-height.csv\")\n",
    "df"
   ]
  },
  {
   "cell_type": "code",
   "execution_count": 9,
   "metadata": {},
   "outputs": [
    {
     "data": {
      "text/html": [
       "<div>\n",
       "<style scoped>\n",
       "    .dataframe tbody tr th:only-of-type {\n",
       "        vertical-align: middle;\n",
       "    }\n",
       "\n",
       "    .dataframe tbody tr th {\n",
       "        vertical-align: top;\n",
       "    }\n",
       "\n",
       "    .dataframe thead th {\n",
       "        text-align: right;\n",
       "    }\n",
       "</style>\n",
       "<table border=\"1\" class=\"dataframe\">\n",
       "  <thead>\n",
       "    <tr style=\"text-align: right;\">\n",
       "      <th></th>\n",
       "      <th>Gender</th>\n",
       "      <th>Height</th>\n",
       "      <th>Weight</th>\n",
       "    </tr>\n",
       "  </thead>\n",
       "  <tbody>\n",
       "    <tr>\n",
       "      <td>0</td>\n",
       "      <td>Male</td>\n",
       "      <td>73.847017</td>\n",
       "      <td>241.893563</td>\n",
       "    </tr>\n",
       "    <tr>\n",
       "      <td>1</td>\n",
       "      <td>Male</td>\n",
       "      <td>68.781904</td>\n",
       "      <td>162.310473</td>\n",
       "    </tr>\n",
       "    <tr>\n",
       "      <td>2</td>\n",
       "      <td>Male</td>\n",
       "      <td>74.110105</td>\n",
       "      <td>212.740856</td>\n",
       "    </tr>\n",
       "    <tr>\n",
       "      <td>3</td>\n",
       "      <td>Male</td>\n",
       "      <td>71.730978</td>\n",
       "      <td>220.042470</td>\n",
       "    </tr>\n",
       "    <tr>\n",
       "      <td>4</td>\n",
       "      <td>Male</td>\n",
       "      <td>69.881796</td>\n",
       "      <td>206.349801</td>\n",
       "    </tr>\n",
       "  </tbody>\n",
       "</table>\n",
       "</div>"
      ],
      "text/plain": [
       "  Gender     Height      Weight\n",
       "0   Male  73.847017  241.893563\n",
       "1   Male  68.781904  162.310473\n",
       "2   Male  74.110105  212.740856\n",
       "3   Male  71.730978  220.042470\n",
       "4   Male  69.881796  206.349801"
      ]
     },
     "execution_count": 9,
     "metadata": {},
     "output_type": "execute_result"
    }
   ],
   "source": [
    "df.head()\n"
   ]
  },
  {
   "cell_type": "code",
   "execution_count": 10,
   "metadata": {},
   "outputs": [
    {
     "name": "stdout",
     "output_type": "stream",
     "text": [
      "<class 'pandas.core.frame.DataFrame'>\n",
      "RangeIndex: 10000 entries, 0 to 9999\n",
      "Data columns (total 3 columns):\n",
      "Gender    10000 non-null object\n",
      "Height    10000 non-null float64\n",
      "Weight    10000 non-null float64\n",
      "dtypes: float64(2), object(1)\n",
      "memory usage: 234.5+ KB\n"
     ]
    }
   ],
   "source": [
    "df.info()"
   ]
  },
  {
   "cell_type": "code",
   "execution_count": 11,
   "metadata": {},
   "outputs": [
    {
     "name": "stdout",
     "output_type": "stream",
     "text": [
      "[73.84701702 68.78190405 74.11010539 71.7309784  69.88179586]\n",
      "\n",
      "[241.89356318 162.31047252 212.74085556 220.0424703  206.34980062]\n"
     ]
    }
   ],
   "source": [
    "X = df.Height.values # input, data\n",
    "y_true = df.Weight.values #output, labels, Asnwers\n",
    "\n",
    "print(X[:5], y_true[:5], sep='\\n\\n')"
   ]
  },
  {
   "cell_type": "code",
   "execution_count": 12,
   "metadata": {},
   "outputs": [],
   "source": [
    "#line Equation\n",
    "def line(x, w=0, b=0):\n",
    "    return x * w + b\n",
    "\n",
    "#Cost Functions\n",
    "def mean_squared_error(y_true, y_pred):\n",
    "    s = (y_true - y_pred) ** 2\n",
    "    return np.sqrt(s.mean())"
   ]
  },
  {
   "cell_type": "code",
   "execution_count": 13,
   "metadata": {},
   "outputs": [
    {
     "data": {
      "text/plain": [
       "Text(0.5, 0, 'b')"
      ]
     },
     "execution_count": 13,
     "metadata": {},
     "output_type": "execute_result"
    },
    {
     "data": {
      "image/png": "[encoded data removed]",
      "text/plain": [
       "<Figure size 720x360 with 2 Axes>"
      ]
     },
     "metadata": {
      "needs_background": "light"
     },
     "output_type": "display_data"
    }
   ],
   "source": [
    "plt.figure(figsize=(10,5))\n",
    "ax1 = plt.subplot(121) # rows,columns, select column 121\n",
    "df.plot(kind='scatter',\n",
    "       x=\"Height\",\n",
    "       y=\"Weight\",\n",
    "       title=\"Height Vs Weight\", ax=ax1)\n",
    "\n",
    "\n",
    "bs = [-100, -50, 0, 50, 100, 150]\n",
    "\n",
    "mses = []\n",
    "for b in bs:\n",
    "    y_pred = line(X, w=2, b=b) # predict line\n",
    "    mse = mean_squared_error(y_true, y_pred)\n",
    "    mses.append(mse)\n",
    "    plt.plot(X, y_pred) \n",
    "    \n",
    "    \n",
    "ax2 = plt.subplot(122)    \n",
    "plt.plot(bs, mses, 'o-')\n",
    "plt.title(\"Cost Functions for each line\")\n",
    "plt.xlabel(\"b\")\n"
   ]
  },
  {
   "cell_type": "code",
   "execution_count": 14,
   "metadata": {},
   "outputs": [
    {
     "name": "stdout",
     "output_type": "stream",
     "text": [
      "[-100, -50, 0, 50, 100, 150]\n",
      "[131.1417931672291, 82.62957208407575, 38.17227332081024, 32.96359686320369, 75.60472859445356, 123.87716195296917]\n"
     ]
    }
   ],
   "source": [
    "print(bs)\n",
    "print(mses)"
   ]
  },
  {
   "cell_type": "markdown",
   "metadata": {},
   "source": [
    "# We have gotten b,w values after runing deep learning algoritham"
   ]
  },
  {
   "cell_type": "code",
   "execution_count": 15,
   "metadata": {},
   "outputs": [
    {
     "data": {
      "text/plain": [
       "[<matplotlib.lines.Line2D at 0x1432e341248>]"
      ]
     },
     "execution_count": 15,
     "metadata": {},
     "output_type": "execute_result"
    },
    {
     "data": {
      "image/png": "[encoded data removed]",
      "text/plain": [
       "<Figure size 720x360 with 1 Axes>"
      ]
     },
     "metadata": {
      "needs_background": "light"
     },
     "output_type": "display_data"
    }
   ],
   "source": [
    "plt.figure(figsize=(10,5))\n",
    "ax1 = plt.subplot(121) # rows,columns, select column 121\n",
    "df.plot(kind='scatter',\n",
    "       x=\"Height\",\n",
    "       y=\"Weight\",\n",
    "       title=\"Height Vs Weight\", ax=ax1)\n",
    "\n",
    "\n",
    "\n",
    "\n",
    "y_pred = line(X, w=7.624642, b=-349.7231) # predict line [[7.624642]] [-349.7231]\n",
    "plt.plot(X, y_pred, color='red')\n"
   ]
  },
  {
   "cell_type": "code",
   "execution_count": null,
   "metadata": {},
   "outputs": [],
   "source": [
    "# Try to find w and b (weights) with Deep Learning¶\n"
   ]
  },
  {
   "cell_type": "code",
   "execution_count": 16,
   "metadata": {},
   "outputs": [],
   "source": [
    "from tensorflow.keras.models import Sequential #sequential, Functional API\n",
    "from tensorflow.keras.layers import Dense #each nodes connected with others nodes\n",
    "from tensorflow.keras.optimizers import Adam, SGD"
   ]
  },
  {
   "cell_type": "code",
   "execution_count": 17,
   "metadata": {},
   "outputs": [
    {
     "data": {
      "text/plain": [
       "'2.1.0'"
      ]
     },
     "execution_count": 17,
     "metadata": {},
     "output_type": "execute_result"
    }
   ],
   "source": [
    "import tensorflow\n",
    "tensorflow.__version__\n",
    "#pip install tensorflow"
   ]
  },
  {
   "cell_type": "code",
   "execution_count": 18,
   "metadata": {},
   "outputs": [
    {
     "name": "stdout",
     "output_type": "stream",
     "text": [
      "[73.84701702 68.78190405]\n",
      "[213.33396753 174.71429443]\n"
     ]
    }
   ],
   "source": [
    "print(X[:2],\n",
    "     y_pred[:2], sep=\"\\n\")"
   ]
  },
  {
   "cell_type": "code",
   "execution_count": 19,
   "metadata": {},
   "outputs": [
    {
     "name": "stdout",
     "output_type": "stream",
     "text": [
      "[73.84701702 68.78190405]\n",
      "[213.33396753 174.71429443]\n"
     ]
    }
   ],
   "source": [
    "print(X[:2],\n",
    "     y_pred[:2], sep=\"\\n\")"
   ]
  },
  {
   "cell_type": "code",
   "execution_count": 20,
   "metadata": {},
   "outputs": [],
   "source": [
    "model = Sequential()\n",
    "model.add(Dense(1, input_shape=(1,)))\n"
   ]
  },
  {
   "cell_type": "code",
   "execution_count": 21,
   "metadata": {},
   "outputs": [],
   "source": [
    "model = Sequential()\n",
    "model.add(Dense(1, input_shape=(1,)))\n"
   ]
  },
  {
   "cell_type": "code",
   "execution_count": 22,
   "metadata": {},
   "outputs": [],
   "source": [
    "model.compile(Adam(lr=0.8), 'mean_squared_error')"
   ]
  },
  {
   "cell_type": "code",
   "execution_count": 23,
   "metadata": {},
   "outputs": [
    {
     "name": "stdout",
     "output_type": "stream",
     "text": [
      "Train on 10000 samples\n",
      "Epoch 1/45\n",
      "10000/10000 [==============================] - 3s 311us/sample - loss: 756.8496\n",
      "Epoch 2/45\n",
      "10000/10000 [==============================] - 0s 30us/sample - loss: 553.1424\n",
      "Epoch 3/45\n",
      "10000/10000 [==============================] - 0s 35us/sample - loss: 501.0224\n",
      "Epoch 4/45\n",
      "10000/10000 [==============================] - 0s 29us/sample - loss: 455.3145\n",
      "Epoch 5/45\n",
      "10000/10000 [==============================] - 0s 34us/sample - loss: 396.2533\n",
      "Epoch 6/45\n",
      "10000/10000 [==============================] - 0s 28us/sample - loss: 393.6106\n",
      "Epoch 7/45\n",
      "10000/10000 [==============================] - 0s 28us/sample - loss: 319.4275\n",
      "Epoch 8/45\n",
      "10000/10000 [==============================] - 0s 28us/sample - loss: 313.4532\n",
      "Epoch 9/45\n",
      "10000/10000 [==============================] - 0s 45us/sample - loss: 264.1177\n",
      "Epoch 10/45\n",
      "10000/10000 [==============================] - 0s 50us/sample - loss: 253.9596\n",
      "Epoch 11/45\n",
      "10000/10000 [==============================] - 1s 54us/sample - loss: 249.2783\n",
      "Epoch 12/45\n",
      "10000/10000 [==============================] - 0s 49us/sample - loss: 219.1028\n",
      "Epoch 13/45\n",
      "10000/10000 [==============================] - 0s 32us/sample - loss: 214.2895\n",
      "Epoch 14/45\n",
      "10000/10000 [==============================] - 0s 29us/sample - loss: 223.0234\n",
      "Epoch 15/45\n",
      "10000/10000 [==============================] - 0s 38us/sample - loss: 194.6774\n",
      "Epoch 16/45\n",
      "10000/10000 [==============================] - 0s 28us/sample - loss: 194.7264\n",
      "Epoch 17/45\n",
      "10000/10000 [==============================] - 0s 41us/sample - loss: 190.4164\n",
      "Epoch 18/45\n",
      "10000/10000 [==============================] - 0s 37us/sample - loss: 180.5701\n",
      "Epoch 19/45\n",
      "10000/10000 [==============================] - 0s 27us/sample - loss: 186.4854\n",
      "Epoch 20/45\n",
      "10000/10000 [==============================] - 0s 39us/sample - loss: 182.7481\n",
      "Epoch 21/45\n",
      "10000/10000 [==============================] - 0s 32us/sample - loss: 198.7856\n",
      "Epoch 22/45\n",
      "10000/10000 [==============================] - 0s 32us/sample - loss: 177.0722\n",
      "Epoch 23/45\n",
      "10000/10000 [==============================] - 0s 34us/sample - loss: 179.1195\n",
      "Epoch 24/45\n",
      "10000/10000 [==============================] - 0s 40us/sample - loss: 168.8401\n",
      "Epoch 25/45\n",
      "10000/10000 [==============================] - 0s 38us/sample - loss: 185.7183\n",
      "Epoch 26/45\n",
      "10000/10000 [==============================] - 0s 42us/sample - loss: 171.30570s - loss: 1\n",
      "Epoch 27/45\n",
      "10000/10000 [==============================] - 0s 27us/sample - loss: 171.8050\n",
      "Epoch 28/45\n",
      "10000/10000 [==============================] - 0s 36us/sample - loss: 182.5243\n",
      "Epoch 29/45\n",
      "10000/10000 [==============================] - 1s 52us/sample - loss: 178.7420\n",
      "Epoch 30/45\n",
      "10000/10000 [==============================] - 0s 29us/sample - loss: 180.6471\n",
      "Epoch 31/45\n",
      "10000/10000 [==============================] - 0s 48us/sample - loss: 188.9532\n",
      "Epoch 32/45\n",
      "10000/10000 [==============================] - 0s 38us/sample - loss: 178.1908\n",
      "Epoch 33/45\n",
      "10000/10000 [==============================] - 0s 31us/sample - loss: 170.2051\n",
      "Epoch 34/45\n",
      "10000/10000 [==============================] - 0s 39us/sample - loss: 180.1197\n",
      "Epoch 35/45\n",
      "10000/10000 [==============================] - 0s 38us/sample - loss: 164.9553\n",
      "Epoch 36/45\n",
      "10000/10000 [==============================] - 0s 32us/sample - loss: 175.0178\n",
      "Epoch 37/45\n",
      "10000/10000 [==============================] - 0s 34us/sample - loss: 178.8909\n",
      "Epoch 38/45\n",
      "10000/10000 [==============================] - 0s 32us/sample - loss: 182.7776\n",
      "Epoch 39/45\n",
      "10000/10000 [==============================] - 0s 30us/sample - loss: 177.0766\n",
      "Epoch 40/45\n",
      "10000/10000 [==============================] - 0s 36us/sample - loss: 178.5915\n",
      "Epoch 41/45\n",
      "10000/10000 [==============================] - 0s 34us/sample - loss: 177.7472\n",
      "Epoch 42/45\n",
      "10000/10000 [==============================] - 0s 33us/sample - loss: 169.0530\n",
      "Epoch 43/45\n",
      "10000/10000 [==============================] - 0s 32us/sample - loss: 194.0954\n",
      "Epoch 44/45\n",
      "10000/10000 [==============================] - 0s 35us/sample - loss: 171.4895\n",
      "Epoch 45/45\n",
      "10000/10000 [==============================] - 0s 37us/sample - loss: 193.1320\n"
     ]
    },
    {
     "data": {
      "text/plain": [
       "<tensorflow.python.keras.callbacks.History at 0x1433584da08>"
      ]
     },
     "execution_count": 23,
     "metadata": {},
     "output_type": "execute_result"
    }
   ],
   "source": [
    "model.fit(X, y_true, epochs=45)"
   ]
  },
  {
   "cell_type": "code",
   "execution_count": 25,
   "metadata": {},
   "outputs": [
    {
     "data": {
      "text/plain": [
       "array([[213.02295],\n",
       "       [174.4162 ],\n",
       "       [215.02826],\n",
       "       ...,\n",
       "       [136.96194],\n",
       "       [176.33954],\n",
       "       [122.29895]], dtype=float32)"
      ]
     },
     "execution_count": 25,
     "metadata": {},
     "output_type": "execute_result"
    }
   ],
   "source": [
    "y_pred_deep_learning = model.predict(X)\n",
    "y_pred_deep_learning"
   ]
  },
  {
   "cell_type": "code",
   "execution_count": 26,
   "metadata": {},
   "outputs": [
    {
     "data": {
      "text/plain": [
       "[<matplotlib.lines.Line2D at 0x14335e0c048>]"
      ]
     },
     "execution_count": 26,
     "metadata": {},
     "output_type": "execute_result"
    },
    {
     "data": {
      "image/png": "[encoded data removed]",
      "text/plain": [
       "<Figure size 432x288 with 1 Axes>"
      ]
     },
     "metadata": {
      "needs_background": "light"
     },
     "output_type": "display_data"
    }
   ],
   "source": [
    "df.plot(kind='scatter',\n",
    "       x='Height',\n",
    "       y=\"Weight\",\n",
    "       title=\"Height Vs Weight With Deep Learning (Find w and b)\")\n",
    "plt.plot(X, y_pred_deep_learning, color='red', linewidth=3)"
   ]
  },
  {
   "cell_type": "code",
   "execution_count": 27,
   "metadata": {},
   "outputs": [
    {
     "name": "stdout",
     "output_type": "stream",
     "text": [
      "[[7.622088]] [-349.84552]\n"
     ]
    }
   ],
   "source": [
    "w, b = model.get_weights()\n",
    "print(w, b)"
   ]
  },
  {
   "cell_type": "code",
   "execution_count": 28,
   "metadata": {},
   "outputs": [
    {
     "data": {
      "text/plain": [
       "array([[1174.572]], dtype=float32)"
      ]
     },
     "execution_count": 28,
     "metadata": {},
     "output_type": "execute_result"
    }
   ],
   "source": [
    "model.predict([[200]])"
   ]
  },
  {
   "cell_type": "code",
   "execution_count": 29,
   "metadata": {},
   "outputs": [
    {
     "data": {
      "text/plain": [
       "<matplotlib.collections.PathCollection at 0x14336f90748>"
      ]
     },
     "execution_count": 29,
     "metadata": {},
     "output_type": "execute_result"
    },
    {
     "data": {
      "image/png": "[encoded data removed]",
      "text/plain": [
       "<Figure size 432x288 with 1 Axes>"
      ]
     },
     "metadata": {
      "needs_background": "light"
     },
     "output_type": "display_data"
    }
   ],
   "source": [
    "df.plot(kind='scatter',\n",
    "       x='Height',\n",
    "       y=\"Weight\",\n",
    "       title=\"Height Vs Weight With Deep Learning (Find w and b)\")\n",
    "plt.plot(X, y_pred_deep_learning, color='red', linewidth=3)\n",
    "i = 90\n",
    "plt.scatter(i, model.predict([[i]]))"
   ]
  },
  {
   "cell_type": "code",
   "execution_count": null,
   "metadata": {},
   "outputs": [],
   "source": []
  }
 ],
 "metadata": {
  "kernelspec": {
   "display_name": "Python 3",
   "language": "python",
   "name": "python3"
  },
  "language_info": {
   "codemirror_mode": {
    "name": "ipython",
    "version": 3
   },
   "file_extension": ".py",
   "mimetype": "text/x-python",
   "name": "python",
   "nbconvert_exporter": "python",
   "pygments_lexer": "ipython3",
   "version": "3.7.4"
  }
 },
 "nbformat": 4,
 "nbformat_minor": 2
}
