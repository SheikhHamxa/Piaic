{
 "cells": [
  {
   "cell_type": "code",
   "execution_count": 8,
   "metadata": {},
   "outputs": [],
   "source": [
    "import pandas as pd\n",
    "import numpy as np"
   ]
  },
  {
   "cell_type": "code",
   "execution_count": 9,
   "metadata": {},
   "outputs": [],
   "source": [
    "from tensorflow.keras.preprocessing.image import ImageDataGenerator"
   ]
  },
  {
   "cell_type": "code",
   "execution_count": 12,
   "metadata": {},
   "outputs": [],
   "source": [
    "train_data_gen = ImageDataGenerator(rescale=1.0/255)"
   ]
  },
  {
   "cell_type": "code",
   "execution_count": 13,
   "metadata": {},
   "outputs": [
    {
     "name": "stdout",
     "output_type": "stream",
     "text": [
      "Found 24 images belonging to 3 classes.\n"
     ]
    }
   ],
   "source": [
    "train_data = train_data_gen.flow_from_directory(r\"C:\\Users\\Hamxa\\Desktop\\piaic\\Second Quarter\\friends\\train\",\n",
    "    target_size=(150,150),\n",
    "    batch_size=20,\n",
    "    class_mode='categorical'\n",
    ")"
   ]
  },
  {
   "cell_type": "code",
   "execution_count": 14,
   "metadata": {},
   "outputs": [
    {
     "data": {
      "text/plain": [
       "{'faisal': 0, 'taha': 1, 'usama': 2}"
      ]
     },
     "execution_count": 14,
     "metadata": {},
     "output_type": "execute_result"
    }
   ],
   "source": [
    "train_data.class_indices"
   ]
  },
  {
   "cell_type": "code",
   "execution_count": 15,
   "metadata": {},
   "outputs": [],
   "source": [
    "from tensorflow.keras.models import Sequential\n",
    "from tensorflow.keras.layers import Dense, Flatten\n",
    "from tensorflow.keras.optimizers import Adam, SGD\n"
   ]
  },
  {
   "cell_type": "code",
   "execution_count": 16,
   "metadata": {},
   "outputs": [],
   "source": [
    "model1 = Sequential()\n",
    "model1.add(Flatten())\n",
    "model1.add(Dense(5000, activation='relu'))\n",
    "model1.add(Dense(1, activation='sigmoid'))"
   ]
  },
  {
   "cell_type": "code",
   "execution_count": 17,
   "metadata": {},
   "outputs": [],
   "source": [
    "model1.compile(loss='categorical_crossentropy',\n",
    "              optimizer='adam',\n",
    "              metrics=['acc'])"
   ]
  },
  {
   "cell_type": "code",
   "execution_count": 18,
   "metadata": {},
   "outputs": [
    {
     "name": "stdout",
     "output_type": "stream",
     "text": [
      "Train for 2 steps\n",
      "Epoch 1/15\n",
      "2/2 [==============================] - 622s 311s/step - loss: 1.1921e-07 - acc: 0.6111\n",
      "Epoch 2/15\n",
      "2/2 [==============================] - 244s 122s/step - loss: 1.1921e-07 - acc: 0.6111\n",
      "Epoch 3/15\n",
      "2/2 [==============================] - 33s 16s/step - loss: 1.1921e-07 - acc: 0.6111\n",
      "Epoch 4/15\n",
      "2/2 [==============================] - 5s 2s/step - loss: 1.1921e-07 - acc: 0.6111\n",
      "Epoch 5/15\n",
      "2/2 [==============================] - 8s 4s/step - loss: 1.1921e-07 - acc: 0.6111\n",
      "Epoch 6/15\n",
      "2/2 [==============================] - 5s 2s/step - loss: 1.1921e-07 - acc: 0.6111\n",
      "Epoch 7/15\n",
      "2/2 [==============================] - 6s 3s/step - loss: 1.1921e-07 - acc: 0.6111\n",
      "Epoch 8/15\n",
      "2/2 [==============================] - 5s 2s/step - loss: 1.1921e-07 - acc: 0.6111\n",
      "Epoch 9/15\n",
      "2/2 [==============================] - 6s 3s/step - loss: 1.1921e-07 - acc: 0.6111\n",
      "Epoch 10/15\n",
      "2/2 [==============================] - 6s 3s/step - loss: 1.1921e-07 - acc: 0.6111\n",
      "Epoch 11/15\n",
      "2/2 [==============================] - 6s 3s/step - loss: 1.1921e-07 - acc: 0.6111\n",
      "Epoch 12/15\n",
      "2/2 [==============================] - 8s 4s/step - loss: 1.1921e-07 - acc: 0.6111\n",
      "Epoch 13/15\n",
      "2/2 [==============================] - 6s 3s/step - loss: 1.1921e-07 - acc: 0.6111\n",
      "Epoch 14/15\n",
      "2/2 [==============================] - 5s 3s/step - loss: 1.1921e-07 - acc: 0.6111\n",
      "Epoch 15/15\n",
      "2/2 [==============================] - 6s 3s/step - loss: 1.1921e-07 - acc: 0.6111\n"
     ]
    }
   ],
   "source": [
    "#Train Model1\n",
    "hist = model1.fit(train_data, epochs=15)"
   ]
  },
  {
   "cell_type": "code",
   "execution_count": 22,
   "metadata": {},
   "outputs": [
    {
     "name": "stdout",
     "output_type": "stream",
     "text": [
      "Found 9 images belonging to 3 classes.\n"
     ]
    }
   ],
   "source": [
    "\n",
    "test_data = train_data_gen.flow_from_directory(r\"C:\\Users\\Hamxa\\Desktop\\piaic\\Second Quarter\\friends\\test\",\n",
    "    target_size=(150,150),\n",
    "    batch_size=20,\n",
    "    class_mode='categorical'\n",
    ")"
   ]
  },
  {
   "cell_type": "code",
   "execution_count": 23,
   "metadata": {},
   "outputs": [
    {
     "data": {
      "text/plain": [
       "array([[0.28129706],\n",
       "       [0.53071594],\n",
       "       [0.4735268 ],\n",
       "       [0.49736595],\n",
       "       [0.43859896],\n",
       "       [0.4008502 ],\n",
       "       [0.5345456 ],\n",
       "       [0.38321623],\n",
       "       [0.49304086]], dtype=float32)"
      ]
     },
     "execution_count": 23,
     "metadata": {},
     "output_type": "execute_result"
    }
   ],
   "source": [
    "Y = model1.predict(test_data)\n",
    "Y"
   ]
  },
  {
   "cell_type": "code",
   "execution_count": 49,
   "metadata": {},
   "outputs": [
    {
     "name": "stdout",
     "output_type": "stream",
     "text": [
      "faisal\n",
      "taha\n",
      "taha\n",
      "taha\n",
      "taha\n",
      "taha\n",
      "taha\n",
      "taha\n",
      "taha\n"
     ]
    }
   ],
   "source": [
    "for x in model1.predict(test_data):\n",
    "  if (x >= 0 and x <= .33):\n",
    "    print('faisal')\n",
    "  elif (x > 0.33 and x <= .66):\n",
    "    print('taha')\n",
    "  elif (x > 0.66 and x <= 1):\n",
    "    print('usama')"
   ]
  },
  {
   "cell_type": "code",
   "execution_count": 50,
   "metadata": {},
   "outputs": [
    {
     "name": "stdout",
     "output_type": "stream",
     "text": [
      "WARNING:tensorflow:sample_weight modes were coerced from\n",
      "  ...\n",
      "    to  \n",
      "  ['...']\n",
      "1/1 [==============================] - 1s 520ms/step - loss: 1.1921e-07 - acc: 0.5926\n"
     ]
    },
    {
     "data": {
      "text/plain": [
       "[1.1920928955078125e-07, 0.5925926]"
      ]
     },
     "execution_count": 50,
     "metadata": {},
     "output_type": "execute_result"
    }
   ],
   "source": [
    "model1.evaluate(test_data)\n"
   ]
  },
  {
   "cell_type": "code",
   "execution_count": 52,
   "metadata": {},
   "outputs": [
    {
     "data": {
      "text/plain": [
       "array([[0.40677947]], dtype=float32)"
      ]
     },
     "execution_count": 52,
     "metadata": {},
     "output_type": "execute_result"
    }
   ],
   "source": [
    "from tensorflow.keras.preprocessing import image\n",
    "import numpy as np\n",
    "img = image.load_img(r\"C:\\Users\\Hamxa\\Desktop\\piaic\\Second Quarter\\friends\\train/taha/t2.jpg\", target_size=(150,150))\n",
    "x=image.img_to_array(img) / 255\n",
    "x = x.reshape(1,-1)\n",
    "model1.predict(x)\n"
   ]
  },
  {
   "cell_type": "code",
   "execution_count": null,
   "metadata": {},
   "outputs": [],
   "source": []
  }
 ],
 "metadata": {
  "kernelspec": {
   "display_name": "Python 3",
   "language": "python",
   "name": "python3"
  },
  "language_info": {
   "codemirror_mode": {
    "name": "ipython",
    "version": 3
   },
   "file_extension": ".py",
   "mimetype": "text/x-python",
   "name": "python",
   "nbconvert_exporter": "python",
   "pygments_lexer": "ipython3",
   "version": "3.7.4"
  }
 },
 "nbformat": 4,
 "nbformat_minor": 2
}
